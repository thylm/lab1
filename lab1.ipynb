{
 "cells": [
  {
   "cell_type": "markdown",
   "metadata": {},
   "source": [
    "Bài 1:"
   ]
  },
  {
   "cell_type": "code",
   "execution_count": 1,
   "metadata": {},
   "outputs": [
    {
     "name": "stdout",
     "output_type": "stream",
     "text": [
      "Hi, my name is John\n",
      "I am a Software Engineer\n"
     ]
    }
   ],
   "source": [
    "class Employee:\n",
    "    def __init__(self, name, position):\n",
    "        self.name = name\n",
    "        self.position = position\n",
    "\n",
    "    def say_hi(self):\n",
    "        print('Hi, my name is', self.name)\n",
    "    \n",
    "    def tell_position(self):\n",
    "        print('I am a', self.position)\n",
    "\n",
    "employee = Employee('John', 'Software Engineer')\n",
    "\n",
    "employee.say_hi()\n",
    "employee.tell_position()"
   ]
  },
  {
   "cell_type": "markdown",
   "metadata": {},
   "source": [
    "Bài 2:"
   ]
  },
  {
   "cell_type": "code",
   "execution_count": 1,
   "metadata": {},
   "outputs": [
    {
     "name": "stdout",
     "output_type": "stream",
     "text": [
      "Shape (rectangle|circle): Height: Width: \n",
      "=> Perimeter: 14.0\n",
      "=> Area: 12.0\n"
     ]
    }
   ],
   "source": [
    "# rectangle class\n",
    "class Rectangle:\n",
    "\n",
    "  def __init__(self, height, width):\n",
    "    self.height = height\n",
    "    self.width = width\n",
    "\n",
    "  def calculate_perimeter(self):\n",
    "    return (self.height + self.width)*2\n",
    "    \n",
    "  def calculate_area(self):\n",
    "    return self.height * self.width\n",
    "\n",
    "\n",
    "# circle class\n",
    "class Circle:\n",
    "\n",
    "  PI = 3.14\n",
    "\n",
    "  def __init__(self, radius):\n",
    "    self.radius = radius\n",
    "\n",
    "  def calculate_perimeter(self):\n",
    "    return 2 * self.PI * self.radius\n",
    "    \n",
    "  def calculate_area(self):\n",
    "    return self.PI * self.radius**2\n",
    "\n",
    "\n",
    "# drive code\n",
    "# get shape\n",
    "print('Shape (rectangle|circle): ', end='')\n",
    "shape_name = input()\n",
    "\n",
    "# get corresponding shape sizes\n",
    "shape = None\n",
    "if shape_name == 'rectangle':\n",
    "  print('Height: ', end='')\n",
    "  height = float(input())\n",
    "  print('Width: ', end='')\n",
    "  width = float(input())\n",
    "  shape = Rectangle(height, width)\n",
    "elif shape_name == 'circle':\n",
    "  print('Radius: ', end='')\n",
    "  radius = float(input())\n",
    "  shape = Circle(radius)\n",
    "else:\n",
    "  print('\\n=> Invalid!')\n",
    "\n",
    "# output perimeter & area\n",
    "if shape != None:\n",
    "  print()\n",
    "  print('=> Perimeter:', shape.calculate_perimeter())\n",
    "  print('=> Area:', shape.calculate_area())"
   ]
  },
  {
   "cell_type": "markdown",
   "metadata": {},
   "source": [
    "Bài 3:"
   ]
  },
  {
   "cell_type": "code",
   "execution_count": 2,
   "metadata": {},
   "outputs": [
    {
     "name": "stdout",
     "output_type": "stream",
     "text": [
      "23/12/2023\n",
      "23:10:32\n"
     ]
    }
   ],
   "source": [
    "from datetime import datetime\n",
    "\n",
    "# define class\n",
    "class CustomDate():\n",
    "    \n",
    "  def __init__(self):\n",
    "    self.time = datetime.now()\n",
    "  \n",
    "  def get_date(self):\n",
    "    return self.time.strftime(\"%d/%m/%Y\")  # method 1\n",
    "    # return f\"{self.time.day:02d}/{self.time.month:02d}/{self.time.year:04d}\"  # method 2\n",
    "  \n",
    "  def get_time(self):\n",
    "    return self.time.strftime(\"%H:%M:%S\")  # method 1\n",
    "    # return f\"{self.time.hour:02d}:{self.time.minute:02d}:{self.time.second:02d}\"  # method 2\n",
    "\n",
    "\n",
    "# driver code\n",
    "now = CustomDate()\n",
    "print(now.get_date())\n",
    "print(now.get_time())"
   ]
  },
  {
   "cell_type": "markdown",
   "metadata": {},
   "source": [
    "Bài 4:"
   ]
  },
  {
   "cell_type": "code",
   "execution_count": 5,
   "metadata": {},
   "outputs": [
    {
     "name": "stdout",
     "output_type": "stream",
     "text": [
      "Start: 01/01/2021\n",
      "End: 01/01/2022\n",
      "Days between: 365\n"
     ]
    }
   ],
   "source": [
    "# define class\n",
    "class DateHandler():\n",
    "    \n",
    "  def __init__(self):\n",
    "    pass\n",
    "  \n",
    "  @classmethod\n",
    "  def format_date(cls, time):\n",
    "    return time.strftime(\"%d/%m/%Y\")\n",
    "\n",
    "  @classmethod\n",
    "  def get_days_between(cls, time_start, time_end):\n",
    "    return (time_end - time_start).days\n",
    "\n",
    "\n",
    "# driver code\n",
    "from datetime import datetime\n",
    "\n",
    "start_date = datetime(2021, 1, 1)\n",
    "end_date = datetime(2022, 1, 1)\n",
    "\n",
    "print(\"Start:\", DateHandler.format_date(start_date))\n",
    "print(\"End:\", DateHandler.format_date(end_date))\n",
    "print(\"Days between:\",\n",
    "       DateHandler.get_days_between(start_date, end_date))"
   ]
  }
 ],
 "metadata": {
  "kernelspec": {
   "display_name": "Python 3",
   "language": "python",
   "name": "python3"
  },
  "language_info": {
   "codemirror_mode": {
    "name": "ipython",
    "version": 3
   },
   "file_extension": ".py",
   "mimetype": "text/x-python",
   "name": "python",
   "nbconvert_exporter": "python",
   "pygments_lexer": "ipython3",
   "version": "3.8.10"
  }
 },
 "nbformat": 4,
 "nbformat_minor": 2
}
